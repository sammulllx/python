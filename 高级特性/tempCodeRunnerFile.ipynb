 if(len(L) == 0):
        return (None, None)